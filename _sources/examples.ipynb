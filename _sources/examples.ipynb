{
 "cells": [
  {
   "cell_type": "markdown",
   "id": "203fed4b",
   "metadata": {},
   "source": [
    "# Examples\n",
    "\n",
    "This page contains a few examples of how you can use The Analyst Pathway in ESG package.\n",
    "\n",
    "## Installation\n",
    "\n",
    "You can install The Analyst Pathway in ESG using `pip`:"
   ]
  },
  {
   "cell_type": "code",
   "execution_count": 1,
   "id": "6c98947c",
   "metadata": {},
   "outputs": [
    {
     "name": "stdout",
     "output_type": "stream",
     "text": [
      "\u001b[31mERROR: Could not find a version that satisfies the requirement esg-coverage (from versions: none)\u001b[0m\u001b[31m\r\n",
      "\u001b[0m\u001b[31mERROR: No matching distribution found for esg-coverage\u001b[0m\u001b[31m\r\n",
      "\u001b[0m"
     ]
    },
    {
     "name": "stdout",
     "output_type": "stream",
     "text": [
      "Note: you may need to restart the kernel to use updated packages.\n"
     ]
    }
   ],
   "source": [
    "pip install esg-coverage"
   ]
  },
  {
   "cell_type": "markdown",
   "id": "3ee31e38",
   "metadata": {},
   "source": [
    "## Usage\n",
    "\n",
    "```python\n",
    "from esgcov import get_version\n",
    "\n",
    "print(get_version())\n",
    "```"
   ]
  }
 ],
 "metadata": {
  "jupytext": {
   "cell_metadata_filter": "-all",
   "formats": "md:myst",
   "text_representation": {
    "extension": ".md",
    "format_name": "myst",
    "format_version": 0.13,
    "jupytext_version": "1.11.5"
   }
  },
  "kernelspec": {
   "display_name": "Python 3",
   "language": "python",
   "name": "python3"
  },
  "language_info": {
   "codemirror_mode": {
    "name": "ipython",
    "version": 3
   },
   "file_extension": ".py",
   "mimetype": "text/x-python",
   "name": "python",
   "nbconvert_exporter": "python",
   "pygments_lexer": "ipython3",
   "version": "3.11.3"
  },
  "source_map": [
   14,
   24,
   26
  ]
 },
 "nbformat": 4,
 "nbformat_minor": 5
}