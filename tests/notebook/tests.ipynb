{
 "cells": [
  {
   "attachments": {},
   "cell_type": "markdown",
   "metadata": {
    "id": "cjgz1WTcPWee"
   },
   "source": [
    "# HyFI Test Notebook\n",
    "\n",
    "This Jupyter Notebook is used to test the HyFI package. It contains examples of how to use the package and how to create a new HyFI model.\n"
   ]
  },
  {
   "cell_type": "code",
   "execution_count": 1,
   "metadata": {},
   "outputs": [
    {
     "name": "stderr",
     "output_type": "stream",
     "text": [
      "/home/yj.lee/.venvs/hyfi-template/lib/python3.8/site-packages/tqdm/auto.py:21: TqdmWarning: IProgress not found. Please update jupyter and ipywidgets. See https://ipywidgets.readthedocs.io/en/stable/user_install.html\n",
      "  from .autonotebook import tqdm as notebook_tqdm\n"
     ]
    }
   ],
   "source": [
    "from esgcov import HyFI"
   ]
  },
  {
   "attachments": {},
   "cell_type": "markdown",
   "metadata": {},
   "source": [
    "## Check Version\n",
    "\n",
    "Now, let's get the version of the `hyfi` package.\n"
   ]
  },
  {
   "cell_type": "code",
   "execution_count": 3,
   "metadata": {
    "id": "BzxPwsOVPWef"
   },
   "outputs": [
    {
     "name": "stdout",
     "output_type": "stream",
     "text": [
      "HyFI version: 0.5.1\n"
     ]
    }
   ],
   "source": [
    "version = HyFI.__version__\n",
    "print(\"HyFI version:\", version)"
   ]
  },
  {
   "cell_type": "code",
   "execution_count": 4,
   "metadata": {},
   "outputs": [
    {
     "data": {
      "text/plain": [
       "{'config_name': '__init__',\n",
       " 'DOTENV_FILENAME': '.env',\n",
       " 'DOTENV_DIR': '/mnt/nvme1n1p2/home/yj.lee/workspace/projects/hyfi-template',\n",
       " 'DOTENV_PATH': '/mnt/nvme1n1p2/home/yj.lee/workspace/projects/hyfi-template/.env',\n",
       " 'HYFI_RESOURCE_DIR': '',\n",
       " 'HYFI_GLOBAL_WORKSPACE_ROOT': '',\n",
       " 'HYFI_GLOBAL_DATA_ROOT': '',\n",
       " 'HYFI_PROJECT_NAME': '',\n",
       " 'HYFI_TASK_NAME': '',\n",
       " 'HYFI_PROJECT_ROOT': '/mnt/nvme1n1p2/home/yj.lee/workspace/projects/hyfi-template',\n",
       " 'HYFI_PROJECT_DATA_ROOT': '/mnt/nvme1n1p2/home/yj.lee/workspace/projects/hyfi-template/workspace',\n",
       " 'HYFI_LOG_LEVEL': 'WARNING',\n",
       " 'HYFI_VERBOSE': False,\n",
       " 'NUM_WORKERS': 1,\n",
       " 'CACHED_PATH_CACHE_ROOT': '',\n",
       " 'CUDA_DEVICE_ORDER': 'PCI_BUS_ID',\n",
       " 'CUDA_VISIBLE_DEVICES': '',\n",
       " 'WANDB_PROJECT': '',\n",
       " 'WANDB_DISABLED': '',\n",
       " 'WANDB_DIR': '',\n",
       " 'WANDB_NOTEBOOK_NAME': '',\n",
       " 'WANDB_SILENT': False,\n",
       " 'LABEL_STUDIO_SERVER': '',\n",
       " 'KMP_DUPLICATE_LIB_OK': 'True',\n",
       " 'TOKENIZERS_PARALLELISM': False,\n",
       " 'WANDB_API_KEY': None,\n",
       " 'HUGGING_FACE_HUB_TOKEN': None,\n",
       " 'OPENAI_API_KEY': SecretStr('**********'),\n",
       " 'ECOS_API_KEY': None,\n",
       " 'FRED_API_KEY': None,\n",
       " 'NASDAQ_API_KEY': None,\n",
       " 'HF_USER_ACCESS_TOKEN': None,\n",
       " 'LABEL_STUDIO_USER_TOKEN': None}"
      ]
     },
     "execution_count": 4,
     "metadata": {},
     "output_type": "execute_result"
    }
   ],
   "source": [
    "HyFI.envs().dict()"
   ]
  },
  {
   "cell_type": "code",
   "execution_count": 8,
   "metadata": {},
   "outputs": [
    {
     "name": "stdout",
     "output_type": "stream",
     "text": [
      "The system workspace root is /mnt/nvme1n1p2/home/yj.lee/workspace and the user is yj.lee.\n"
     ]
    }
   ],
   "source": [
    "# Test expanding $PWD and $USER variables\n",
    "posix_expr = \"The system workspace root is $WORKSPACE_ROOT and the user is $USER.\"\n",
    "\n",
    "expanded_expr = HyFI.expand_posix_vars(posix_expr)\n",
    "print(expanded_expr)"
   ]
  },
  {
   "attachments": {},
   "cell_type": "markdown",
   "metadata": {},
   "source": [
    "## Initialize Workspace\n",
    "\n",
    "We'll initialize the workspace using the `HyFI.init_workspace` function. The function takes the following parameters:\n",
    "\n",
    "- `project`: The project subdirectory.\n",
    "- `task`: The specific task within the project.\n",
    "- `project_root`: The root workspace directory.\n",
    "- `log_level`: Logging level for the workspace.\n",
    "- `verbose`: Whether to print verbose messages.\n",
    "\n",
    "We'll check if we're running in Google Colab, and if so, we'll mount Google Drive.\n"
   ]
  },
  {
   "cell_type": "code",
   "execution_count": 9,
   "metadata": {},
   "outputs": [
    {
     "name": "stderr",
     "output_type": "stream",
     "text": [
      "INFO:hyfi.utils.notebook:Google Colab not detected.\n",
      "INFO:hyfi.utils.notebook:Extension autotime not found. Install it first.\n"
     ]
    },
    {
     "name": "stdout",
     "output_type": "stream",
     "text": [
      "project_dir: /mnt/nvme1n1p2/home/yj.lee/workspace/projects/hyfi-template\n",
      "project_data_dir: /mnt/nvme1n1p2/home/yj.lee/workspace/projects/hyfi-template/workspace\n"
     ]
    }
   ],
   "source": [
    "if HyFI.is_colab():\n",
    "    HyFI.mount_google_drive()\n",
    "\n",
    "ws = HyFI.init_workspace(\n",
    "    project_name=\"hyfi\",\n",
    "    task_name=\"test\",\n",
    "    log_level=\"INFO\",\n",
    "    verbose=True,\n",
    ")\n",
    "\n",
    "print(\"project_dir:\", ws.project_dir)\n",
    "print(\"project_data_dir:\", ws.project_data_dir)"
   ]
  },
  {
   "cell_type": "code",
   "execution_count": 10,
   "metadata": {},
   "outputs": [
    {
     "data": {
      "text/plain": [
       "{'config_name': '__init__',\n",
       " 'DOTENV_FILENAME': '.env',\n",
       " 'DOTENV_DIR': '/mnt/nvme1n1p2/home/yj.lee/workspace/projects/hyfi-template',\n",
       " 'DOTENV_PATH': '/mnt/nvme1n1p2/home/yj.lee/workspace/projects/hyfi-template/.env',\n",
       " 'HYFI_RESOURCE_DIR': '',\n",
       " 'HYFI_GLOBAL_WORKSPACE_ROOT': '/home/yj.lee/.hyfi',\n",
       " 'HYFI_GLOBAL_DATA_ROOT': '/home/yj.lee/.hyfi/data',\n",
       " 'HYFI_PROJECT_NAME': 'hyfi',\n",
       " 'HYFI_TASK_NAME': 'test',\n",
       " 'HYFI_PROJECT_ROOT': '/mnt/nvme1n1p2/home/yj.lee/workspace/projects/hyfi-template',\n",
       " 'HYFI_PROJECT_DATA_ROOT': '/mnt/nvme1n1p2/home/yj.lee/workspace/projects/hyfi-template/workspace',\n",
       " 'HYFI_LOG_LEVEL': 'INFO',\n",
       " 'HYFI_VERBOSE': False,\n",
       " 'NUM_WORKERS': 1,\n",
       " 'CACHED_PATH_CACHE_ROOT': '/home/yj.lee/.hyfi/.cache/cached_path',\n",
       " 'CUDA_DEVICE_ORDER': 'PCI_BUS_ID',\n",
       " 'CUDA_VISIBLE_DEVICES': '',\n",
       " 'WANDB_PROJECT': 'hyfi',\n",
       " 'WANDB_DISABLED': '',\n",
       " 'WANDB_DIR': '/mnt/nvme1n1p2/home/yj.lee/workspace/projects/hyfi-template/workspace/logs',\n",
       " 'WANDB_NOTEBOOK_NAME': '/mnt/nvme1n1p2/home/yj.lee/workspace/projects/hyfi-template/workspace/logs/test-nb',\n",
       " 'WANDB_SILENT': True,\n",
       " 'LABEL_STUDIO_SERVER': '',\n",
       " 'KMP_DUPLICATE_LIB_OK': 'True',\n",
       " 'TOKENIZERS_PARALLELISM': False,\n",
       " 'WANDB_API_KEY': None,\n",
       " 'HUGGING_FACE_HUB_TOKEN': None,\n",
       " 'OPENAI_API_KEY': SecretStr('**********'),\n",
       " 'ECOS_API_KEY': None,\n",
       " 'FRED_API_KEY': None,\n",
       " 'NASDAQ_API_KEY': None,\n",
       " 'HF_USER_ACCESS_TOKEN': None,\n",
       " 'LABEL_STUDIO_USER_TOKEN': None}"
      ]
     },
     "execution_count": 10,
     "metadata": {},
     "output_type": "execute_result"
    }
   ],
   "source": [
    "ws.dotenv.dict()"
   ]
  },
  {
   "attachments": {},
   "cell_type": "markdown",
   "metadata": {},
   "source": [
    "## Compose Configuration\n",
    "\n",
    "We can use the `HyFI.compose` function to load a configuration file. In this example, we'll use the default configuration by specifying `path=__default__`.\n"
   ]
  },
  {
   "cell_type": "code",
   "execution_count": 11,
   "metadata": {},
   "outputs": [
    {
     "name": "stderr",
     "output_type": "stream",
     "text": [
      "INFO:hyfi.env:config_module: hyfi.conf\n",
      "INFO:hyfi.env:compose config with overrides: ['+path=__default__']\n"
     ]
    }
   ],
   "source": [
    "cfg = HyFI.compose(\"path=__default__\")"
   ]
  },
  {
   "attachments": {},
   "cell_type": "markdown",
   "metadata": {},
   "source": [
    "## Display Configuration\n",
    "\n",
    "Now, let's print the loaded configuration using the `HyFI.print` function.\n"
   ]
  },
  {
   "cell_type": "code",
   "execution_count": 12,
   "metadata": {},
   "outputs": [
    {
     "name": "stdout",
     "output_type": "stream",
     "text": [
      "{'project_data_root': '/mnt/nvme1n1p2/home/yj.lee/workspace/projects/hyfi-template/workspace',\n",
      " 'task_cache': '/mnt/nvme1n1p2/home/yj.lee/workspace/projects/hyfi-template/workspace/default-task/cache',\n",
      " 'task_datasets': '/mnt/nvme1n1p2/home/yj.lee/workspace/projects/hyfi-template/workspace/default-task/datasets',\n",
      " 'task_library': '/mnt/nvme1n1p2/home/yj.lee/workspace/projects/hyfi-template/workspace/default-task/libs',\n",
      " 'task_log': '/mnt/nvme1n1p2/home/yj.lee/workspace/projects/hyfi-template/workspace/default-task/logs',\n",
      " 'task_models': '/mnt/nvme1n1p2/home/yj.lee/workspace/projects/hyfi-template/workspace/default-task/models',\n",
      " 'task_name': 'default-task',\n",
      " 'task_outputs': '/mnt/nvme1n1p2/home/yj.lee/workspace/projects/hyfi-template/workspace/default-task/outputs',\n",
      " 'task_root': '/mnt/nvme1n1p2/home/yj.lee/workspace/projects/hyfi-template/workspace/default-task',\n",
      " 'task_tmp': '/mnt/nvme1n1p2/home/yj.lee/workspace/projects/hyfi-template/workspace/default-task/tmp'}\n"
     ]
    }
   ],
   "source": [
    "HyFI.print(cfg)"
   ]
  },
  {
   "attachments": {},
   "cell_type": "markdown",
   "metadata": {},
   "source": [
    "That's it! This example demonstrated the basic usage of the `hyfi_template` package. You can now use this package to manage your own projects and tasks in a structured manner.\n"
   ]
  }
 ],
 "metadata": {
  "colab": {
   "name": "corpus.ipynb",
   "provenance": []
  },
  "interpreter": {
   "hash": "f869af7787e6a1c49e09e367fc6e1b81d93d1c6583b43249c80edc047bd13cb2"
  },
  "kernelspec": {
   "display_name": "Python 3",
   "language": "python",
   "name": "python3"
  },
  "language_info": {
   "codemirror_mode": {
    "name": "ipython",
    "version": 3
   },
   "file_extension": ".py",
   "mimetype": "text/x-python",
   "name": "python",
   "nbconvert_exporter": "python",
   "pygments_lexer": "ipython3",
   "version": "3.8.10"
  },
  "widgets": {
   "application/vnd.jupyter.widget-state+json": {
    "state": {},
    "version_major": 2,
    "version_minor": 0
   }
  }
 },
 "nbformat": 4,
 "nbformat_minor": 1
}
